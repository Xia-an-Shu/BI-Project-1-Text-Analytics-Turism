{
  "cells": [
    {
      "cell_type": "markdown",
      "metadata": {
        "id": "wwG-ABsifyD_"
      },
      "source": [
        "# **Proyecto Turismo de los Alpes**"
      ]
    },
    {
      "cell_type": "markdown",
      "metadata": {
        "id": "BIQ_vPvdUCL-"
      },
      "source": [
        "# **1. Entendimiento de los datos**"
      ]
    },
    {
      "cell_type": "code",
      "execution_count": null,
      "metadata": {
        "colab": {
          "base_uri": "https://localhost:8080/"
        },
        "id": "9_XHllWlV6h_",
        "outputId": "176cc18a-f4bd-4108-ae5c-86c411d50d8e"
      },
      "outputs": [
        {
          "name": "stdout",
          "output_type": "stream",
          "text": [
            "Collecting unidecode\n",
            "  Downloading Unidecode-1.3.8-py3-none-any.whl (235 kB)\n",
            "\u001b[?25l     \u001b[90m━━━━━━━━━━━━━━━━━━━━━━━━━━━━━━━━━━━━━━━━\u001b[0m \u001b[32m0.0/235.5 kB\u001b[0m \u001b[31m?\u001b[0m eta \u001b[36m-:--:--\u001b[0m\r\u001b[2K     \u001b[91m━━━━━━━━━━━━━━━━━━━━━━━━━━━━━\u001b[0m\u001b[91m╸\u001b[0m\u001b[90m━━━━━━━━━━\u001b[0m \u001b[32m174.1/235.5 kB\u001b[0m \u001b[31m4.9 MB/s\u001b[0m eta \u001b[36m0:00:01\u001b[0m\r\u001b[2K     \u001b[90m━━━━━━━━━━━━━━━━━━━━━━━━━━━━━━━━━━━━━━━━\u001b[0m \u001b[32m235.5/235.5 kB\u001b[0m \u001b[31m4.8 MB/s\u001b[0m eta \u001b[36m0:00:00\u001b[0m\n",
            "\u001b[?25hInstalling collected packages: unidecode\n",
            "Successfully installed unidecode-1.3.8\n",
            "Collecting num2words\n",
            "  Downloading num2words-0.5.13-py3-none-any.whl (143 kB)\n",
            "\u001b[2K     \u001b[90m━━━━━━━━━━━━━━━━━━━━━━━━━━━━━━━━━━━━━━━━\u001b[0m \u001b[32m143.3/143.3 kB\u001b[0m \u001b[31m3.2 MB/s\u001b[0m eta \u001b[36m0:00:00\u001b[0m\n",
            "\u001b[?25hCollecting docopt>=0.6.2 (from num2words)\n",
            "  Downloading docopt-0.6.2.tar.gz (25 kB)\n",
            "  Preparing metadata (setup.py) ... \u001b[?25l\u001b[?25hdone\n",
            "Building wheels for collected packages: docopt\n",
            "  Building wheel for docopt (setup.py) ... \u001b[?25l\u001b[?25hdone\n",
            "  Created wheel for docopt: filename=docopt-0.6.2-py2.py3-none-any.whl size=13706 sha256=1e1e808e80b3c7d269b1fb94b56ef6ddb203a02a0ad6c6c95f1a1a77268aa789\n",
            "  Stored in directory: /root/.cache/pip/wheels/fc/ab/d4/5da2067ac95b36618c629a5f93f809425700506f72c9732fac\n",
            "Successfully built docopt\n",
            "Installing collected packages: docopt, num2words\n",
            "Successfully installed docopt-0.6.2 num2words-0.5.13\n"
          ]
        }
      ],
      "source": [
        "!pip install unidecode\n",
        "!pip install num2words"
      ]
    },
    {
      "cell_type": "code",
      "execution_count": null,
      "metadata": {
        "id": "ZT6_pmrNVYQL"
      },
      "outputs": [],
      "source": [
        "# Cargar librerias\n",
        "\n",
        "import pandas as pd\n",
        "import matplotlib.pyplot as plt\n",
        "import numpy as np\n",
        "import re\n",
        "import nltk\n",
        "from nltk.corpus import stopwords\n",
        "from nltk.stem import WordNetLemmatizer\n",
        "from nltk.tokenize import word_tokenize\n",
        "from unidecode import unidecode\n",
        "from num2words import num2words\n",
        "from sklearn.feature_extraction.text import TfidfVectorizer\n",
        "from sklearn.model_selection import train_test_split\n",
        "from sklearn.tree import DecisionTreeClassifier\n",
        "from sklearn.metrics import confusion_matrix, classification_report, precision_score, recall_score, f1_score, accuracy_score, ConfusionMatrixDisplay\n",
        "from sklearn.model_selection import KFold\n",
        "from sklearn.model_selection import GridSearchCV\n",
        "from sklearn.svm import SVC\n",
        "from sklearn.linear_model import LogisticRegression"
      ]
    },
    {
      "cell_type": "code",
      "execution_count": null,
      "metadata": {
        "colab": {
          "base_uri": "https://localhost:8080/"
        },
        "id": "lH0UXO0NV_Ay",
        "outputId": "df3e0fc2-638d-414d-c3fb-c24a2feea944"
      },
      "outputs": [
        {
          "name": "stderr",
          "output_type": "stream",
          "text": [
            "[nltk_data] Downloading package wordnet to /root/nltk_data...\n",
            "[nltk_data] Downloading package stopwords to /root/nltk_data...\n",
            "[nltk_data]   Unzipping corpora/stopwords.zip.\n",
            "[nltk_data] Downloading package punkt to /root/nltk_data...\n",
            "[nltk_data]   Unzipping tokenizers/punkt.zip.\n"
          ]
        },
        {
          "data": {
            "text/plain": [
              "True"
            ]
          },
          "execution_count": 3,
          "metadata": {},
          "output_type": "execute_result"
        }
      ],
      "source": [
        "nltk.download(\"wordnet\")\n",
        "nltk.download(\"stopwords\")\n",
        "nltk.download(\"punkt\")"
      ]
    },
    {
      "cell_type": "code",
      "execution_count": null,
      "metadata": {
        "colab": {
          "base_uri": "https://localhost:8080/"
        },
        "id": "MihmkMhVVgrg",
        "outputId": "d3cac2e1-154a-4bcd-a437-803596f6805c"
      },
      "outputs": [
        {
          "name": "stdout",
          "output_type": "stream",
          "text": [
            "                                              Review  Class\n",
            "0  Muy buena atención y aclaración de dudas por p...      5\n",
            "1  Buen hotel si están obligados a estar cerca de...      3\n",
            "2  Es un lugar muy lindo para fotografías, visite...      5\n",
            "3  Abusados con la factura de alimentos siempre s...      3\n",
            "4  Tuvimos un par de personas en el grupo que rea...      3\n"
          ]
        }
      ],
      "source": [
        "# Cargar datos\n",
        "\n",
        "df = pd.read_csv(\"tipo2_entrenamiento_estudiantes.csv\")\n",
        "print(df.head())"
      ]
    },
    {
      "cell_type": "code",
      "execution_count": null,
      "metadata": {
        "colab": {
          "base_uri": "https://localhost:8080/"
        },
        "id": "wrbaiYkVV4TP",
        "outputId": "7f6e8d15-038b-4401-8e72-118adfc324e3"
      },
      "outputs": [
        {
          "name": "stdout",
          "output_type": "stream",
          "text": [
            "(7875, 2)\n",
            "Review    object\n",
            "Class      int64\n",
            "dtype: object\n"
          ]
        }
      ],
      "source": [
        "# Indentificar información general de los datos\n",
        "\n",
        "print(df.shape)\n",
        "print(df.dtypes)"
      ]
    },
    {
      "cell_type": "markdown",
      "metadata": {
        "id": "JPsApHh4sK3b"
      },
      "source": [
        "Se compartieron datos de 7875 reseñas de turistas de los cuales tenemos una unica columna object \"Review\" en el que se encuentra toda la información de la reseña escrita. Por otro lado, hay una unica columna númerica \"Class\" que guarda el nivel de satisfación del turista con base en la reseña."
      ]
    },
    {
      "cell_type": "code",
      "execution_count": null,
      "metadata": {
        "colab": {
          "base_uri": "https://localhost:8080/",
          "height": 300
        },
        "id": "YAiv5v7BuEyT",
        "outputId": "912a92bf-1181-4065-cdb7-56529787ada0"
      },
      "outputs": [
        {
          "data": {
            "application/vnd.google.colaboratory.intrinsic+json": {
              "summary": "{\n  \"name\": \"df\",\n  \"rows\": 8,\n  \"fields\": [\n    {\n      \"column\": \"Class\",\n      \"properties\": {\n        \"dtype\": \"number\",\n        \"std\": 2783.0806137766886,\n        \"min\": 1.0,\n        \"max\": 7875.0,\n        \"num_unique_values\": 7,\n        \"samples\": [\n          7875.0,\n          3.5026031746031747,\n          4.0\n        ],\n        \"semantic_type\": \"\",\n        \"description\": \"\"\n      }\n    }\n  ]\n}",
              "type": "dataframe"
            },
            "text/html": [
              "\n",
              "  <div id=\"df-946e53f7-d7cc-4009-b04f-ec4181c01e6a\" class=\"colab-df-container\">\n",
              "    <div>\n",
              "<style scoped>\n",
              "    .dataframe tbody tr th:only-of-type {\n",
              "        vertical-align: middle;\n",
              "    }\n",
              "\n",
              "    .dataframe tbody tr th {\n",
              "        vertical-align: top;\n",
              "    }\n",
              "\n",
              "    .dataframe thead th {\n",
              "        text-align: right;\n",
              "    }\n",
              "</style>\n",
              "<table border=\"1\" class=\"dataframe\">\n",
              "  <thead>\n",
              "    <tr style=\"text-align: right;\">\n",
              "      <th></th>\n",
              "      <th>Class</th>\n",
              "    </tr>\n",
              "  </thead>\n",
              "  <tbody>\n",
              "    <tr>\n",
              "      <th>count</th>\n",
              "      <td>7875.000000</td>\n",
              "    </tr>\n",
              "    <tr>\n",
              "      <th>mean</th>\n",
              "      <td>3.502603</td>\n",
              "    </tr>\n",
              "    <tr>\n",
              "      <th>std</th>\n",
              "      <td>1.320435</td>\n",
              "    </tr>\n",
              "    <tr>\n",
              "      <th>min</th>\n",
              "      <td>1.000000</td>\n",
              "    </tr>\n",
              "    <tr>\n",
              "      <th>25%</th>\n",
              "      <td>3.000000</td>\n",
              "    </tr>\n",
              "    <tr>\n",
              "      <th>50%</th>\n",
              "      <td>4.000000</td>\n",
              "    </tr>\n",
              "    <tr>\n",
              "      <th>75%</th>\n",
              "      <td>5.000000</td>\n",
              "    </tr>\n",
              "    <tr>\n",
              "      <th>max</th>\n",
              "      <td>5.000000</td>\n",
              "    </tr>\n",
              "  </tbody>\n",
              "</table>\n",
              "</div>\n",
              "    <div class=\"colab-df-buttons\">\n",
              "\n",
              "  <div class=\"colab-df-container\">\n",
              "    <button class=\"colab-df-convert\" onclick=\"convertToInteractive('df-946e53f7-d7cc-4009-b04f-ec4181c01e6a')\"\n",
              "            title=\"Convert this dataframe to an interactive table.\"\n",
              "            style=\"display:none;\">\n",
              "\n",
              "  <svg xmlns=\"http://www.w3.org/2000/svg\" height=\"24px\" viewBox=\"0 -960 960 960\">\n",
              "    <path d=\"M120-120v-720h720v720H120Zm60-500h600v-160H180v160Zm220 220h160v-160H400v160Zm0 220h160v-160H400v160ZM180-400h160v-160H180v160Zm440 0h160v-160H620v160ZM180-180h160v-160H180v160Zm440 0h160v-160H620v160Z\"/>\n",
              "  </svg>\n",
              "    </button>\n",
              "\n",
              "  <style>\n",
              "    .colab-df-container {\n",
              "      display:flex;\n",
              "      gap: 12px;\n",
              "    }\n",
              "\n",
              "    .colab-df-convert {\n",
              "      background-color: #E8F0FE;\n",
              "      border: none;\n",
              "      border-radius: 50%;\n",
              "      cursor: pointer;\n",
              "      display: none;\n",
              "      fill: #1967D2;\n",
              "      height: 32px;\n",
              "      padding: 0 0 0 0;\n",
              "      width: 32px;\n",
              "    }\n",
              "\n",
              "    .colab-df-convert:hover {\n",
              "      background-color: #E2EBFA;\n",
              "      box-shadow: 0px 1px 2px rgba(60, 64, 67, 0.3), 0px 1px 3px 1px rgba(60, 64, 67, 0.15);\n",
              "      fill: #174EA6;\n",
              "    }\n",
              "\n",
              "    .colab-df-buttons div {\n",
              "      margin-bottom: 4px;\n",
              "    }\n",
              "\n",
              "    [theme=dark] .colab-df-convert {\n",
              "      background-color: #3B4455;\n",
              "      fill: #D2E3FC;\n",
              "    }\n",
              "\n",
              "    [theme=dark] .colab-df-convert:hover {\n",
              "      background-color: #434B5C;\n",
              "      box-shadow: 0px 1px 3px 1px rgba(0, 0, 0, 0.15);\n",
              "      filter: drop-shadow(0px 1px 2px rgba(0, 0, 0, 0.3));\n",
              "      fill: #FFFFFF;\n",
              "    }\n",
              "  </style>\n",
              "\n",
              "    <script>\n",
              "      const buttonEl =\n",
              "        document.querySelector('#df-946e53f7-d7cc-4009-b04f-ec4181c01e6a button.colab-df-convert');\n",
              "      buttonEl.style.display =\n",
              "        google.colab.kernel.accessAllowed ? 'block' : 'none';\n",
              "\n",
              "      async function convertToInteractive(key) {\n",
              "        const element = document.querySelector('#df-946e53f7-d7cc-4009-b04f-ec4181c01e6a');\n",
              "        const dataTable =\n",
              "          await google.colab.kernel.invokeFunction('convertToInteractive',\n",
              "                                                    [key], {});\n",
              "        if (!dataTable) return;\n",
              "\n",
              "        const docLinkHtml = 'Like what you see? Visit the ' +\n",
              "          '<a target=\"_blank\" href=https://colab.research.google.com/notebooks/data_table.ipynb>data table notebook</a>'\n",
              "          + ' to learn more about interactive tables.';\n",
              "        element.innerHTML = '';\n",
              "        dataTable['output_type'] = 'display_data';\n",
              "        await google.colab.output.renderOutput(dataTable, element);\n",
              "        const docLink = document.createElement('div');\n",
              "        docLink.innerHTML = docLinkHtml;\n",
              "        element.appendChild(docLink);\n",
              "      }\n",
              "    </script>\n",
              "  </div>\n",
              "\n",
              "\n",
              "<div id=\"df-c1c10eba-ae1f-4432-9b06-88fd0bdb6c15\">\n",
              "  <button class=\"colab-df-quickchart\" onclick=\"quickchart('df-c1c10eba-ae1f-4432-9b06-88fd0bdb6c15')\"\n",
              "            title=\"Suggest charts\"\n",
              "            style=\"display:none;\">\n",
              "\n",
              "<svg xmlns=\"http://www.w3.org/2000/svg\" height=\"24px\"viewBox=\"0 0 24 24\"\n",
              "     width=\"24px\">\n",
              "    <g>\n",
              "        <path d=\"M19 3H5c-1.1 0-2 .9-2 2v14c0 1.1.9 2 2 2h14c1.1 0 2-.9 2-2V5c0-1.1-.9-2-2-2zM9 17H7v-7h2v7zm4 0h-2V7h2v10zm4 0h-2v-4h2v4z\"/>\n",
              "    </g>\n",
              "</svg>\n",
              "  </button>\n",
              "\n",
              "<style>\n",
              "  .colab-df-quickchart {\n",
              "      --bg-color: #E8F0FE;\n",
              "      --fill-color: #1967D2;\n",
              "      --hover-bg-color: #E2EBFA;\n",
              "      --hover-fill-color: #174EA6;\n",
              "      --disabled-fill-color: #AAA;\n",
              "      --disabled-bg-color: #DDD;\n",
              "  }\n",
              "\n",
              "  [theme=dark] .colab-df-quickchart {\n",
              "      --bg-color: #3B4455;\n",
              "      --fill-color: #D2E3FC;\n",
              "      --hover-bg-color: #434B5C;\n",
              "      --hover-fill-color: #FFFFFF;\n",
              "      --disabled-bg-color: #3B4455;\n",
              "      --disabled-fill-color: #666;\n",
              "  }\n",
              "\n",
              "  .colab-df-quickchart {\n",
              "    background-color: var(--bg-color);\n",
              "    border: none;\n",
              "    border-radius: 50%;\n",
              "    cursor: pointer;\n",
              "    display: none;\n",
              "    fill: var(--fill-color);\n",
              "    height: 32px;\n",
              "    padding: 0;\n",
              "    width: 32px;\n",
              "  }\n",
              "\n",
              "  .colab-df-quickchart:hover {\n",
              "    background-color: var(--hover-bg-color);\n",
              "    box-shadow: 0 1px 2px rgba(60, 64, 67, 0.3), 0 1px 3px 1px rgba(60, 64, 67, 0.15);\n",
              "    fill: var(--button-hover-fill-color);\n",
              "  }\n",
              "\n",
              "  .colab-df-quickchart-complete:disabled,\n",
              "  .colab-df-quickchart-complete:disabled:hover {\n",
              "    background-color: var(--disabled-bg-color);\n",
              "    fill: var(--disabled-fill-color);\n",
              "    box-shadow: none;\n",
              "  }\n",
              "\n",
              "  .colab-df-spinner {\n",
              "    border: 2px solid var(--fill-color);\n",
              "    border-color: transparent;\n",
              "    border-bottom-color: var(--fill-color);\n",
              "    animation:\n",
              "      spin 1s steps(1) infinite;\n",
              "  }\n",
              "\n",
              "  @keyframes spin {\n",
              "    0% {\n",
              "      border-color: transparent;\n",
              "      border-bottom-color: var(--fill-color);\n",
              "      border-left-color: var(--fill-color);\n",
              "    }\n",
              "    20% {\n",
              "      border-color: transparent;\n",
              "      border-left-color: var(--fill-color);\n",
              "      border-top-color: var(--fill-color);\n",
              "    }\n",
              "    30% {\n",
              "      border-color: transparent;\n",
              "      border-left-color: var(--fill-color);\n",
              "      border-top-color: var(--fill-color);\n",
              "      border-right-color: var(--fill-color);\n",
              "    }\n",
              "    40% {\n",
              "      border-color: transparent;\n",
              "      border-right-color: var(--fill-color);\n",
              "      border-top-color: var(--fill-color);\n",
              "    }\n",
              "    60% {\n",
              "      border-color: transparent;\n",
              "      border-right-color: var(--fill-color);\n",
              "    }\n",
              "    80% {\n",
              "      border-color: transparent;\n",
              "      border-right-color: var(--fill-color);\n",
              "      border-bottom-color: var(--fill-color);\n",
              "    }\n",
              "    90% {\n",
              "      border-color: transparent;\n",
              "      border-bottom-color: var(--fill-color);\n",
              "    }\n",
              "  }\n",
              "</style>\n",
              "\n",
              "  <script>\n",
              "    async function quickchart(key) {\n",
              "      const quickchartButtonEl =\n",
              "        document.querySelector('#' + key + ' button');\n",
              "      quickchartButtonEl.disabled = true;  // To prevent multiple clicks.\n",
              "      quickchartButtonEl.classList.add('colab-df-spinner');\n",
              "      try {\n",
              "        const charts = await google.colab.kernel.invokeFunction(\n",
              "            'suggestCharts', [key], {});\n",
              "      } catch (error) {\n",
              "        console.error('Error during call to suggestCharts:', error);\n",
              "      }\n",
              "      quickchartButtonEl.classList.remove('colab-df-spinner');\n",
              "      quickchartButtonEl.classList.add('colab-df-quickchart-complete');\n",
              "    }\n",
              "    (() => {\n",
              "      let quickchartButtonEl =\n",
              "        document.querySelector('#df-c1c10eba-ae1f-4432-9b06-88fd0bdb6c15 button');\n",
              "      quickchartButtonEl.style.display =\n",
              "        google.colab.kernel.accessAllowed ? 'block' : 'none';\n",
              "    })();\n",
              "  </script>\n",
              "</div>\n",
              "\n",
              "    </div>\n",
              "  </div>\n"
            ],
            "text/plain": [
              "             Class\n",
              "count  7875.000000\n",
              "mean      3.502603\n",
              "std       1.320435\n",
              "min       1.000000\n",
              "25%       3.000000\n",
              "50%       4.000000\n",
              "75%       5.000000\n",
              "max       5.000000"
            ]
          },
          "execution_count": 6,
          "metadata": {},
          "output_type": "execute_result"
        }
      ],
      "source": [
        "# Analizar distribución de la variable numerica\n",
        "\n",
        "df.describe()"
      ]
    },
    {
      "cell_type": "markdown",
      "metadata": {
        "id": "TC-YqZeFuEW7"
      },
      "source": [
        "Se identifica que class esta dentro de su rango adecuado, con 5 de valor maximo y 1 de valor minimo. Tocaria evaluar si esta es entera en todos los valores."
      ]
    },
    {
      "cell_type": "code",
      "execution_count": null,
      "metadata": {
        "colab": {
          "base_uri": "https://localhost:8080/"
        },
        "id": "QnNm8SpysQbO",
        "outputId": "2489a30f-7fd1-4a42-a912-426c62103eca"
      },
      "outputs": [
        {
          "name": "stdout",
          "output_type": "stream",
          "text": [
            "Review    0\n",
            "Class     0\n",
            "dtype: int64\n"
          ]
        }
      ],
      "source": [
        "# Analizar la completitud de los datos\n",
        "\n",
        "print(df.isna().sum())"
      ]
    },
    {
      "cell_type": "markdown",
      "metadata": {
        "id": "BKCgoB-psRu2"
      },
      "source": [
        "Se observa que no hay ningún dato nulo en el conjunto de reseñas compartido"
      ]
    },
    {
      "cell_type": "code",
      "execution_count": null,
      "metadata": {
        "colab": {
          "base_uri": "https://localhost:8080/"
        },
        "id": "YAiEhUNgV_Bx",
        "outputId": "8d503fb9-05c9-475f-9550-472f9014930b"
      },
      "outputs": [
        {
          "data": {
            "text/plain": [
              "73"
            ]
          },
          "execution_count": 8,
          "metadata": {},
          "output_type": "execute_result"
        }
      ],
      "source": [
        "# Analizar la unicidad de los datos\n",
        "\n",
        "df.duplicated().sum()"
      ]
    },
    {
      "cell_type": "markdown",
      "metadata": {
        "id": "BkbN6oWxucT_"
      },
      "source": [
        "Se observa que hay 73 reseñas duplicadas, es decir, 0.0093% de los datos se encuentran duplicados, por ende, se debe tratar estos datos."
      ]
    },
    {
      "cell_type": "code",
      "execution_count": null,
      "metadata": {
        "colab": {
          "base_uri": "https://localhost:8080/",
          "height": 467
        },
        "id": "fsGQ5pYhWEKm",
        "outputId": "22754da0-0a4b-4c8d-f4ec-e3947d162c8e"
      },
      "outputs": [
        {
          "data": {
            "image/png": "[encoded data removed]",
            "text/plain": [
              "<Figure size 640x480 with 1 Axes>"
            ]
          },
          "metadata": {},
          "output_type": "display_data"
        }
      ],
      "source": [
        "# Analizar validez de la variable númerica\n",
        "\n",
        "df[\"Class\"].value_counts().plot(kind=\"bar\")\n",
        "plt.title(\"Class\")\n",
        "plt.show()"
      ]
    },
    {
      "cell_type": "markdown",
      "metadata": {
        "id": "m-s3fqPnufym"
      },
      "source": [
        "Para la columna \"Class\" se observa un correcta validez al tener datos unicamente en las 5 clases que hay númeradas del 1 al 5."
      ]
    },
    {
      "cell_type": "markdown",
      "metadata": {
        "id": "PDVBRAC4Z_d-"
      },
      "source": [
        "#**2. Preparación de los datos**"
      ]
    },
    {
      "cell_type": "markdown",
      "metadata": {
        "id": "8UubtPLbujBT"
      },
      "source": [
        "La preparación de los datos se va a dividir en tres etapas:\n",
        "\n",
        "*   Limpieza de los datos.\n",
        "*   Tokenización.\n",
        "*   Normalización (Vectorización).\n",
        "\n"
      ]
    },
    {
      "cell_type": "markdown",
      "metadata": {
        "id": "L1Xo6iucr30F"
      },
      "source": [
        "En esta parte lo que se hace es eliminar todo tipo de caracteres especiales y tener todas las palabras en minúscula"
      ]
    },
    {
      "cell_type": "markdown",
      "metadata": {
        "id": "5Ai5lDeCr4x5"
      },
      "source": [
        "Primero se instalan todas las librerías y dependencias necesarias"
      ]
    },
    {
      "cell_type": "code",
      "execution_count": null,
      "metadata": {
        "id": "b0o0u2_YY_i5"
      },
      "outputs": [],
      "source": [
        "# Eliminación de datos duplicados\n",
        "\n",
        "#df = df.drop_duplicates(subset=[\"Review\"]) Error de ejecución que no se pudo debuggear"
      ]
    },
    {
      "cell_type": "code",
      "execution_count": null,
      "metadata": {
        "colab": {
          "base_uri": "https://localhost:8080/"
        },
        "id": "dXAwKYihZEi_",
        "outputId": "f7151abd-7115-4bcf-a7cf-cfd5e8b88d86"
      },
      "outputs": [
        {
          "name": "stdout",
          "output_type": "stream",
          "text": [
            "                                              Review  Class\n",
            "0  muy buena atencion y aclaracion de dudas por p...      5\n",
            "1  buen hotel si estan obligados a estar cerca de...      3\n",
            "2  es un lugar muy lindo para fotografias visiten...      5\n",
            "3  abusados con la factura de alimentos siempre s...      3\n",
            "4  tuvimos un par de personas en el grupo que rea...      3\n"
          ]
        }
      ],
      "source": [
        "\"\"\"\n",
        "Función para limpiar el texto.\n",
        "Eliminar signos de puntuación, caracteres especiales, tildes y\n",
        "convertir todo a minúsculas\n",
        "\"\"\"\n",
        "def limpiar_texto(texto):\n",
        "    texto_limpio = re.sub(r'[^\\w\\s]', '', texto)\n",
        "    texto_limpio = unidecode(texto_limpio.lower())\n",
        "    return texto_limpio\n",
        "\n",
        "df[\"Review\"] = df[\"Review\"].apply(limpiar_texto)\n",
        "print(df.head())"
      ]
    },
    {
      "cell_type": "code",
      "execution_count": null,
      "metadata": {
        "colab": {
          "base_uri": "https://localhost:8080/"
        },
        "id": "6l1owNrkZG4M",
        "outputId": "425edd2f-8e33-4e0f-8841-d4c3867ffbb2"
      },
      "outputs": [
        {
          "name": "stdout",
          "output_type": "stream",
          "text": [
            "                                              Review  Class\n",
            "0  buena atencion aclaracion dudas parte senorita...      5\n",
            "1  buen hotel si estan obligados cerca centro con...      3\n",
            "2  lugar lindo fotografias visiten selina musica ...      5\n",
            "3  abusados factura alimentos siempre echan culpa...      3\n",
            "4  par personas grupo realmente queriamos comer c...      3\n"
          ]
        }
      ],
      "source": [
        "\"\"\"\n",
        "Función para eliminar palabras vacías de una reseña,\n",
        "Separa la cadena en palabras, elimina las palabras vacías, y vuelve a unir\n",
        "\"\"\"\n",
        "def eliminar_stopwords(texto):\n",
        "    stop_words = set(stopwords.words(\"spanish\"))\n",
        "    palabras_filtradas = [palabra for palabra in texto.split() if palabra not in stop_words]\n",
        "    texto_filtrado = ' '.join(palabras_filtradas)\n",
        "    return texto_filtrado\n",
        "\n",
        "df[\"Review\"] = df[\"Review\"].apply(eliminar_stopwords)\n",
        "print(df.head())"
      ]
    },
    {
      "cell_type": "code",
      "execution_count": null,
      "metadata": {
        "colab": {
          "base_uri": "https://localhost:8080/"
        },
        "id": "-TNo9JgeZIja",
        "outputId": "df162691-2255-43fe-ef1a-f8003455acec"
      },
      "outputs": [
        {
          "name": "stdout",
          "output_type": "stream",
          "text": [
            "                                              Review  Class\n",
            "0  buena atencion aclaracion dudas parte senorita...      5\n",
            "1  buen hotel si estan obligados cerca centro con...      3\n",
            "2  lugar lindo fotografias visiten selina musica ...      5\n",
            "3  abusados factura alimentos siempre echan culpa...      3\n",
            "4  par persona grupo realmente queriamos comer ca...      3\n"
          ]
        }
      ],
      "source": [
        "\"\"\"\n",
        "Función para lematizar las palabras de una reseña,\n",
        "Separa la cadena en palabras, lematiza las palabras, y vuelve a unir\n",
        "\"\"\"\n",
        "def lematizar_texto(texto):\n",
        "    lemmatizer = WordNetLemmatizer()\n",
        "    palabras_lematizadas = [lemmatizer.lemmatize(palabra) for palabra in texto.split()]\n",
        "    texto_lematizado = ' '.join(palabras_lematizadas)\n",
        "    return texto_lematizado\n",
        "\n",
        "df[\"Review\"] = df[\"Review\"].apply(lematizar_texto)\n",
        "print(df.head())"
      ]
    },
    {
      "cell_type": "code",
      "execution_count": null,
      "metadata": {
        "colab": {
          "base_uri": "https://localhost:8080/"
        },
        "id": "PDfZ-7wnZKOw",
        "outputId": "f94f22c0-c477-4cbc-c300-e6e4262441b8"
      },
      "outputs": [
        {
          "name": "stdout",
          "output_type": "stream",
          "text": [
            "                                              Review  Class\n",
            "0  buena atencion aclaracion dudas parte senorita...      5\n",
            "1  buen hotel si estan obligados cerca centro con...      3\n",
            "2  lugar lindo fotografias visiten selina musica ...      5\n",
            "3  abusados factura alimentos siempre echan culpa...      3\n",
            "4  par persona grupo realmente queriamos comer ca...      3\n"
          ]
        }
      ],
      "source": [
        "\"\"\"\n",
        "Función para convertir números en su representación textual en español en una reseña\n",
        "\"\"\"\n",
        "def convertir_numeros_texto(texto):\n",
        "    texto_con_numeros_convertidos = re.sub(r'\\b\\d+\\b', lambda x: num2words(int(x.group()), lang='es'), texto)\n",
        "    return texto_con_numeros_convertidos\n",
        "\n",
        "df[\"Review\"] = df[\"Review\"].apply(convertir_numeros_texto)\n",
        "print(df.head())"
      ]
    },
    {
      "cell_type": "code",
      "execution_count": null,
      "metadata": {
        "colab": {
          "base_uri": "https://localhost:8080/",
          "height": 253
        },
        "id": "gSGMnPLoZL4a",
        "outputId": "1bd495f1-f1e3-433a-8daf-65ac41ffdaa9"
      },
      "outputs": [
        {
          "name": "stdout",
          "output_type": "stream",
          "text": [
            "(7875, 26013)\n"
          ]
        },
        {
          "data": {
            "application/vnd.google.colaboratory.intrinsic+json": {
              "type": "dataframe",
              "variable_name": "df_tfidf"
            },
            "text/html": [
              "\n",
              "  <div id=\"df-230fed75-be8c-4175-85f3-5bfd7b51cc57\" class=\"colab-df-container\">\n",
              "    <div>\n",
              "<style scoped>\n",
              "    .dataframe tbody tr th:only-of-type {\n",
              "        vertical-align: middle;\n",
              "    }\n",
              "\n",
              "    .dataframe tbody tr th {\n",
              "        vertical-align: top;\n",
              "    }\n",
              "\n",
              "    .dataframe thead th {\n",
              "        text-align: right;\n",
              "    }\n",
              "</style>\n",
              "<table border=\"1\" class=\"dataframe\">\n",
              "  <thead>\n",
              "    <tr style=\"text-align: right;\">\n",
              "      <th></th>\n",
              "      <th>0600am</th>\n",
              "      <th>0900hrs</th>\n",
              "      <th>0llegamos</th>\n",
              "      <th>0me</th>\n",
              "      <th>1000am</th>\n",
              "      <th>1000p</th>\n",
              "      <th>100h</th>\n",
              "      <th>100pesos</th>\n",
              "      <th>100vale</th>\n",
              "      <th>100x100</th>\n",
              "      <th>...</th>\n",
              "      <th>zoom</th>\n",
              "      <th>zu</th>\n",
              "      <th>zuizas</th>\n",
              "      <th>zumba</th>\n",
              "      <th>zumbaba</th>\n",
              "      <th>zumo</th>\n",
              "      <th>zumos</th>\n",
              "      <th>zur</th>\n",
              "      <th>zuzzete</th>\n",
              "      <th>Variable_Objetivo</th>\n",
              "    </tr>\n",
              "  </thead>\n",
              "  <tbody>\n",
              "    <tr>\n",
              "      <th>0</th>\n",
              "      <td>0.0</td>\n",
              "      <td>0.0</td>\n",
              "      <td>0.0</td>\n",
              "      <td>0.0</td>\n",
              "      <td>0.0</td>\n",
              "      <td>0.0</td>\n",
              "      <td>0.0</td>\n",
              "      <td>0.0</td>\n",
              "      <td>0.0</td>\n",
              "      <td>0.0</td>\n",
              "      <td>...</td>\n",
              "      <td>0.0</td>\n",
              "      <td>0.0</td>\n",
              "      <td>0.0</td>\n",
              "      <td>0.0</td>\n",
              "      <td>0.0</td>\n",
              "      <td>0.0</td>\n",
              "      <td>0.0</td>\n",
              "      <td>0.0</td>\n",
              "      <td>0.0</td>\n",
              "      <td>5</td>\n",
              "    </tr>\n",
              "    <tr>\n",
              "      <th>1</th>\n",
              "      <td>0.0</td>\n",
              "      <td>0.0</td>\n",
              "      <td>0.0</td>\n",
              "      <td>0.0</td>\n",
              "      <td>0.0</td>\n",
              "      <td>0.0</td>\n",
              "      <td>0.0</td>\n",
              "      <td>0.0</td>\n",
              "      <td>0.0</td>\n",
              "      <td>0.0</td>\n",
              "      <td>...</td>\n",
              "      <td>0.0</td>\n",
              "      <td>0.0</td>\n",
              "      <td>0.0</td>\n",
              "      <td>0.0</td>\n",
              "      <td>0.0</td>\n",
              "      <td>0.0</td>\n",
              "      <td>0.0</td>\n",
              "      <td>0.0</td>\n",
              "      <td>0.0</td>\n",
              "      <td>3</td>\n",
              "    </tr>\n",
              "    <tr>\n",
              "      <th>2</th>\n",
              "      <td>0.0</td>\n",
              "      <td>0.0</td>\n",
              "      <td>0.0</td>\n",
              "      <td>0.0</td>\n",
              "      <td>0.0</td>\n",
              "      <td>0.0</td>\n",
              "      <td>0.0</td>\n",
              "      <td>0.0</td>\n",
              "      <td>0.0</td>\n",
              "      <td>0.0</td>\n",
              "      <td>...</td>\n",
              "      <td>0.0</td>\n",
              "      <td>0.0</td>\n",
              "      <td>0.0</td>\n",
              "      <td>0.0</td>\n",
              "      <td>0.0</td>\n",
              "      <td>0.0</td>\n",
              "      <td>0.0</td>\n",
              "      <td>0.0</td>\n",
              "      <td>0.0</td>\n",
              "      <td>5</td>\n",
              "    </tr>\n",
              "    <tr>\n",
              "      <th>3</th>\n",
              "      <td>0.0</td>\n",
              "      <td>0.0</td>\n",
              "      <td>0.0</td>\n",
              "      <td>0.0</td>\n",
              "      <td>0.0</td>\n",
              "      <td>0.0</td>\n",
              "      <td>0.0</td>\n",
              "      <td>0.0</td>\n",
              "      <td>0.0</td>\n",
              "      <td>0.0</td>\n",
              "      <td>...</td>\n",
              "      <td>0.0</td>\n",
              "      <td>0.0</td>\n",
              "      <td>0.0</td>\n",
              "      <td>0.0</td>\n",
              "      <td>0.0</td>\n",
              "      <td>0.0</td>\n",
              "      <td>0.0</td>\n",
              "      <td>0.0</td>\n",
              "      <td>0.0</td>\n",
              "      <td>3</td>\n",
              "    </tr>\n",
              "    <tr>\n",
              "      <th>4</th>\n",
              "      <td>0.0</td>\n",
              "      <td>0.0</td>\n",
              "      <td>0.0</td>\n",
              "      <td>0.0</td>\n",
              "      <td>0.0</td>\n",
              "      <td>0.0</td>\n",
              "      <td>0.0</td>\n",
              "      <td>0.0</td>\n",
              "      <td>0.0</td>\n",
              "      <td>0.0</td>\n",
              "      <td>...</td>\n",
              "      <td>0.0</td>\n",
              "      <td>0.0</td>\n",
              "      <td>0.0</td>\n",
              "      <td>0.0</td>\n",
              "      <td>0.0</td>\n",
              "      <td>0.0</td>\n",
              "      <td>0.0</td>\n",
              "      <td>0.0</td>\n",
              "      <td>0.0</td>\n",
              "      <td>3</td>\n",
              "    </tr>\n",
              "  </tbody>\n",
              "</table>\n",
              "<p>5 rows × 26013 columns</p>\n",
              "</div>\n",
              "    <div class=\"colab-df-buttons\">\n",
              "\n",
              "  <div class=\"colab-df-container\">\n",
              "    <button class=\"colab-df-convert\" onclick=\"convertToInteractive('df-230fed75-be8c-4175-85f3-5bfd7b51cc57')\"\n",
              "            title=\"Convert this dataframe to an interactive table.\"\n",
              "            style=\"display:none;\">\n",
              "\n",
              "  <svg xmlns=\"http://www.w3.org/2000/svg\" height=\"24px\" viewBox=\"0 -960 960 960\">\n",
              "    <path d=\"M120-120v-720h720v720H120Zm60-500h600v-160H180v160Zm220 220h160v-160H400v160Zm0 220h160v-160H400v160ZM180-400h160v-160H180v160Zm440 0h160v-160H620v160ZM180-180h160v-160H180v160Zm440 0h160v-160H620v160Z\"/>\n",
              "  </svg>\n",
              "    </button>\n",
              "\n",
              "  <style>\n",
              "    .colab-df-container {\n",
              "      display:flex;\n",
              "      gap: 12px;\n",
              "    }\n",
              "\n",
              "    .colab-df-convert {\n",
              "      background-color: #E8F0FE;\n",
              "      border: none;\n",
              "      border-radius: 50%;\n",
              "      cursor: pointer;\n",
              "      display: none;\n",
              "      fill: #1967D2;\n",
              "      height: 32px;\n",
              "      padding: 0 0 0 0;\n",
              "      width: 32px;\n",
              "    }\n",
              "\n",
              "    .colab-df-convert:hover {\n",
              "      background-color: #E2EBFA;\n",
              "      box-shadow: 0px 1px 2px rgba(60, 64, 67, 0.3), 0px 1px 3px 1px rgba(60, 64, 67, 0.15);\n",
              "      fill: #174EA6;\n",
              "    }\n",
              "\n",
              "    .colab-df-buttons div {\n",
              "      margin-bottom: 4px;\n",
              "    }\n",
              "\n",
              "    [theme=dark] .colab-df-convert {\n",
              "      background-color: #3B4455;\n",
              "      fill: #D2E3FC;\n",
              "    }\n",
              "\n",
              "    [theme=dark] .colab-df-convert:hover {\n",
              "      background-color: #434B5C;\n",
              "      box-shadow: 0px 1px 3px 1px rgba(0, 0, 0, 0.15);\n",
              "      filter: drop-shadow(0px 1px 2px rgba(0, 0, 0, 0.3));\n",
              "      fill: #FFFFFF;\n",
              "    }\n",
              "  </style>\n",
              "\n",
              "    <script>\n",
              "      const buttonEl =\n",
              "        document.querySelector('#df-230fed75-be8c-4175-85f3-5bfd7b51cc57 button.colab-df-convert');\n",
              "      buttonEl.style.display =\n",
              "        google.colab.kernel.accessAllowed ? 'block' : 'none';\n",
              "\n",
              "      async function convertToInteractive(key) {\n",
              "        const element = document.querySelector('#df-230fed75-be8c-4175-85f3-5bfd7b51cc57');\n",
              "        const dataTable =\n",
              "          await google.colab.kernel.invokeFunction('convertToInteractive',\n",
              "                                                    [key], {});\n",
              "        if (!dataTable) return;\n",
              "\n",
              "        const docLinkHtml = 'Like what you see? Visit the ' +\n",
              "          '<a target=\"_blank\" href=https://colab.research.google.com/notebooks/data_table.ipynb>data table notebook</a>'\n",
              "          + ' to learn more about interactive tables.';\n",
              "        element.innerHTML = '';\n",
              "        dataTable['output_type'] = 'display_data';\n",
              "        await google.colab.output.renderOutput(dataTable, element);\n",
              "        const docLink = document.createElement('div');\n",
              "        docLink.innerHTML = docLinkHtml;\n",
              "        element.appendChild(docLink);\n",
              "      }\n",
              "    </script>\n",
              "  </div>\n",
              "\n",
              "\n",
              "<div id=\"df-f18e3db5-879e-43ab-bc68-f507d7c5ff83\">\n",
              "  <button class=\"colab-df-quickchart\" onclick=\"quickchart('df-f18e3db5-879e-43ab-bc68-f507d7c5ff83')\"\n",
              "            title=\"Suggest charts\"\n",
              "            style=\"display:none;\">\n",
              "\n",
              "<svg xmlns=\"http://www.w3.org/2000/svg\" height=\"24px\"viewBox=\"0 0 24 24\"\n",
              "     width=\"24px\">\n",
              "    <g>\n",
              "        <path d=\"M19 3H5c-1.1 0-2 .9-2 2v14c0 1.1.9 2 2 2h14c1.1 0 2-.9 2-2V5c0-1.1-.9-2-2-2zM9 17H7v-7h2v7zm4 0h-2V7h2v10zm4 0h-2v-4h2v4z\"/>\n",
              "    </g>\n",
              "</svg>\n",
              "  </button>\n",
              "\n",
              "<style>\n",
              "  .colab-df-quickchart {\n",
              "      --bg-color: #E8F0FE;\n",
              "      --fill-color: #1967D2;\n",
              "      --hover-bg-color: #E2EBFA;\n",
              "      --hover-fill-color: #174EA6;\n",
              "      --disabled-fill-color: #AAA;\n",
              "      --disabled-bg-color: #DDD;\n",
              "  }\n",
              "\n",
              "  [theme=dark] .colab-df-quickchart {\n",
              "      --bg-color: #3B4455;\n",
              "      --fill-color: #D2E3FC;\n",
              "      --hover-bg-color: #434B5C;\n",
              "      --hover-fill-color: #FFFFFF;\n",
              "      --disabled-bg-color: #3B4455;\n",
              "      --disabled-fill-color: #666;\n",
              "  }\n",
              "\n",
              "  .colab-df-quickchart {\n",
              "    background-color: var(--bg-color);\n",
              "    border: none;\n",
              "    border-radius: 50%;\n",
              "    cursor: pointer;\n",
              "    display: none;\n",
              "    fill: var(--fill-color);\n",
              "    height: 32px;\n",
              "    padding: 0;\n",
              "    width: 32px;\n",
              "  }\n",
              "\n",
              "  .colab-df-quickchart:hover {\n",
              "    background-color: var(--hover-bg-color);\n",
              "    box-shadow: 0 1px 2px rgba(60, 64, 67, 0.3), 0 1px 3px 1px rgba(60, 64, 67, 0.15);\n",
              "    fill: var(--button-hover-fill-color);\n",
              "  }\n",
              "\n",
              "  .colab-df-quickchart-complete:disabled,\n",
              "  .colab-df-quickchart-complete:disabled:hover {\n",
              "    background-color: var(--disabled-bg-color);\n",
              "    fill: var(--disabled-fill-color);\n",
              "    box-shadow: none;\n",
              "  }\n",
              "\n",
              "  .colab-df-spinner {\n",
              "    border: 2px solid var(--fill-color);\n",
              "    border-color: transparent;\n",
              "    border-bottom-color: var(--fill-color);\n",
              "    animation:\n",
              "      spin 1s steps(1) infinite;\n",
              "  }\n",
              "\n",
              "  @keyframes spin {\n",
              "    0% {\n",
              "      border-color: transparent;\n",
              "      border-bottom-color: var(--fill-color);\n",
              "      border-left-color: var(--fill-color);\n",
              "    }\n",
              "    20% {\n",
              "      border-color: transparent;\n",
              "      border-left-color: var(--fill-color);\n",
              "      border-top-color: var(--fill-color);\n",
              "    }\n",
              "    30% {\n",
              "      border-color: transparent;\n",
              "      border-left-color: var(--fill-color);\n",
              "      border-top-color: var(--fill-color);\n",
              "      border-right-color: var(--fill-color);\n",
              "    }\n",
              "    40% {\n",
              "      border-color: transparent;\n",
              "      border-right-color: var(--fill-color);\n",
              "      border-top-color: var(--fill-color);\n",
              "    }\n",
              "    60% {\n",
              "      border-color: transparent;\n",
              "      border-right-color: var(--fill-color);\n",
              "    }\n",
              "    80% {\n",
              "      border-color: transparent;\n",
              "      border-right-color: var(--fill-color);\n",
              "      border-bottom-color: var(--fill-color);\n",
              "    }\n",
              "    90% {\n",
              "      border-color: transparent;\n",
              "      border-bottom-color: var(--fill-color);\n",
              "    }\n",
              "  }\n",
              "</style>\n",
              "\n",
              "  <script>\n",
              "    async function quickchart(key) {\n",
              "      const quickchartButtonEl =\n",
              "        document.querySelector('#' + key + ' button');\n",
              "      quickchartButtonEl.disabled = true;  // To prevent multiple clicks.\n",
              "      quickchartButtonEl.classList.add('colab-df-spinner');\n",
              "      try {\n",
              "        const charts = await google.colab.kernel.invokeFunction(\n",
              "            'suggestCharts', [key], {});\n",
              "      } catch (error) {\n",
              "        console.error('Error during call to suggestCharts:', error);\n",
              "      }\n",
              "      quickchartButtonEl.classList.remove('colab-df-spinner');\n",
              "      quickchartButtonEl.classList.add('colab-df-quickchart-complete');\n",
              "    }\n",
              "    (() => {\n",
              "      let quickchartButtonEl =\n",
              "        document.querySelector('#df-f18e3db5-879e-43ab-bc68-f507d7c5ff83 button');\n",
              "      quickchartButtonEl.style.display =\n",
              "        google.colab.kernel.accessAllowed ? 'block' : 'none';\n",
              "    })();\n",
              "  </script>\n",
              "</div>\n",
              "\n",
              "    </div>\n",
              "  </div>\n"
            ],
            "text/plain": [
              "   0600am  0900hrs  0llegamos  0me  1000am  1000p  100h  100pesos  100vale  \\\n",
              "0     0.0      0.0        0.0  0.0     0.0    0.0   0.0       0.0      0.0   \n",
              "1     0.0      0.0        0.0  0.0     0.0    0.0   0.0       0.0      0.0   \n",
              "2     0.0      0.0        0.0  0.0     0.0    0.0   0.0       0.0      0.0   \n",
              "3     0.0      0.0        0.0  0.0     0.0    0.0   0.0       0.0      0.0   \n",
              "4     0.0      0.0        0.0  0.0     0.0    0.0   0.0       0.0      0.0   \n",
              "\n",
              "   100x100  ...  zoom   zu  zuizas  zumba  zumbaba  zumo  zumos  zur  zuzzete  \\\n",
              "0      0.0  ...   0.0  0.0     0.0    0.0      0.0   0.0    0.0  0.0      0.0   \n",
              "1      0.0  ...   0.0  0.0     0.0    0.0      0.0   0.0    0.0  0.0      0.0   \n",
              "2      0.0  ...   0.0  0.0     0.0    0.0      0.0   0.0    0.0  0.0      0.0   \n",
              "3      0.0  ...   0.0  0.0     0.0    0.0      0.0   0.0    0.0  0.0      0.0   \n",
              "4      0.0  ...   0.0  0.0     0.0    0.0      0.0   0.0    0.0  0.0      0.0   \n",
              "\n",
              "   Variable_Objetivo  \n",
              "0                  5  \n",
              "1                  3  \n",
              "2                  5  \n",
              "3                  3  \n",
              "4                  3  \n",
              "\n",
              "[5 rows x 26013 columns]"
            ]
          },
          "execution_count": 15,
          "metadata": {},
          "output_type": "execute_result"
        }
      ],
      "source": [
        "\"\"\"\n",
        "Función para vectorizar las palabras de las review\n",
        "\"\"\"\n",
        "tfidf_vectorizer = TfidfVectorizer()\n",
        "\n",
        "def crear_matriz_TFIDF(df):\n",
        "    tfidf_matrix = tfidf_vectorizer.fit_transform(df['Review'])\n",
        "    feature_names = tfidf_vectorizer.get_feature_names_out()\n",
        "    df_tfidf = pd.DataFrame(tfidf_matrix.toarray(), columns=feature_names)\n",
        "    df_tfidf['Variable_Objetivo'] = df['Class']\n",
        "    return df_tfidf\n",
        "\n",
        "df_tfidf = crear_matriz_TFIDF(df)\n",
        "print(df_tfidf.shape)\n",
        "df_tfidf.head()"
      ]
    },
    {
      "cell_type": "code",
      "execution_count": null,
      "metadata": {
        "id": "DwVoQdv2OVRi"
      },
      "outputs": [],
      "source": [
        "X_data = df_tfidf.drop(columns=[\"Variable_Objetivo\"])\n",
        "Y_data = df_tfidf[\"Variable_Objetivo\"]"
      ]
    },
    {
      "cell_type": "markdown",
      "metadata": {
        "id": "TK-IQdQfRXMU"
      },
      "source": [
        "#**3. Creación del modelo**"
      ]
    },
    {
      "cell_type": "markdown",
      "metadata": {
        "id": "RwsELwrJTjP9"
      },
      "source": [
        "### **Modelo para el algoritmo de Regresión Logistica Multinomial (Jefferson Hernandez - 202120242)**"
      ]
    },
    {
      "cell_type": "code",
      "execution_count": null,
      "metadata": {
        "colab": {
          "base_uri": "https://localhost:8080/",
          "height": 588
        },
        "id": "qT6786VsTyvc",
        "outputId": "3e9d3f36-f706-4f41-d351-92a9336c3644"
      },
      "outputs": [
        {
          "name": "stderr",
          "output_type": "stream",
          "text": [
            "/usr/local/lib/python3.10/dist-packages/sklearn/linear_model/_logistic.py:458: ConvergenceWarning: lbfgs failed to converge (status=1):\n",
            "STOP: TOTAL NO. of ITERATIONS REACHED LIMIT.\n",
            "\n",
            "Increase the number of iterations (max_iter) or scale the data as shown in:\n",
            "    https://scikit-learn.org/stable/modules/preprocessing.html\n",
            "Please also refer to the documentation for alternative solver options:\n",
            "    https://scikit-learn.org/stable/modules/linear_model.html#logistic-regression\n",
            "  n_iter_i = _check_optimize_result(\n"
          ]
        },
        {
          "data": {
            "image/png": "[encoded data removed]",
            "text/plain": [
              "<Figure size 640x480 with 2 Axes>"
            ]
          },
          "metadata": {},
          "output_type": "display_data"
        }
      ],
      "source": [
        "from sklearn.model_selection import train_test_split\n",
        "from sklearn.linear_model import LogisticRegression\n",
        "from sklearn.metrics import accuracy_score, classification_report\n",
        "\n",
        "# Dividir los datos en conjunto de entrenamiento y conjunto de prueba\n",
        "X_train, X_test, Y_train, Y_test = train_test_split(X_data, Y_data, test_size=0.2, random_state=42)\n",
        "\n",
        "# Inicializar el modelo de regresión logística multinomial\n",
        "modelo_reg_log_multinomial = LogisticRegression(multi_class='multinomial', solver='lbfgs')\n",
        "\n",
        "# Entrenar el modelo con los datos de entrenamiento\n",
        "modelo_reg_log_multinomial.fit(X_train, Y_train)\n",
        "\n",
        "# Predecir las clases en el conjunto de prueba\n",
        "predicciones = modelo_reg_log_multinomial.predict(X_test)\n",
        "\n",
        "# Visualiza la matriz de confusión\n",
        "cm = confusion_matrix(Y_test, predicciones)\n",
        "disp = ConfusionMatrixDisplay(confusion_matrix=cm)\n",
        "disp.plot()\n",
        "plt.show()"
      ]
    },
    {
      "cell_type": "code",
      "execution_count": null,
      "metadata": {
        "colab": {
          "base_uri": "https://localhost:8080/"
        },
        "id": "yAS6KvVX-VFv",
        "outputId": "7de944f1-bad7-4fbb-a2d4-da3fbfe4a0e0"
      },
      "outputs": [
        {
          "name": "stdout",
          "output_type": "stream",
          "text": [
            "              precision    recall  f1-score   support\n",
            "\n",
            "           1       0.49      0.22      0.30       161\n",
            "           2       0.42      0.35      0.38       227\n",
            "           3       0.41      0.40      0.41       299\n",
            "           4       0.41      0.42      0.42       401\n",
            "           5       0.55      0.70      0.62       487\n",
            "\n",
            "    accuracy                           0.47      1575\n",
            "   macro avg       0.46      0.42      0.43      1575\n",
            "weighted avg       0.47      0.47      0.46      1575\n",
            "\n"
          ]
        }
      ],
      "source": [
        "# Mostrar el reporte de clasificación\n",
        "\n",
        "print(classification_report(Y_test, predicciones))"
      ]
    },
    {
      "cell_type": "markdown",
      "metadata": {
        "id": "AE-RqTo8ZhE3"
      },
      "source": [
        "### **Modelo para el algoritmo de arboles de decisión (Samuel Goncalves - 202122595)**"
      ]
    },
    {
      "cell_type": "code",
      "execution_count": null,
      "metadata": {
        "colab": {
          "base_uri": "https://localhost:8080/",
          "height": 455
        },
        "id": "u44Fji1nRa10",
        "outputId": "898a7e7d-ec11-46ca-92bd-3bd1b14e5295"
      },
      "outputs": [
        {
          "data": {
            "image/png": "[encoded data removed]",
            "text/plain": [
              "<Figure size 640x480 with 2 Axes>"
            ]
          },
          "metadata": {},
          "output_type": "display_data"
        }
      ],
      "source": [
        "# Dividir datos en entrenamiento (80%) y test (20%)\n",
        "X_train, X_test, Y_train, Y_test = train_test_split(X_data, Y_data, train_size = 0.8, random_state=1234, shuffle=True)\n",
        "\n",
        "# Crear el objeto de arbol de decisión utilizando como criterio de pureza la entropía\n",
        "arbol = DecisionTreeClassifier(criterion=\"entropy\", random_state=0)\n",
        "\n",
        "# Entrenar el modelo con los datos de entrenamiento\n",
        "arbol = arbol.fit(X_train, Y_train)\n",
        "\n",
        "# Determinar las predicciones del modelo sobre el conjunto de prueba\n",
        "Y_pred = arbol.predict(X_test)\n",
        "\n",
        "# Generar matriz de confusión\n",
        "confusion_matrix(Y_test, Y_pred)\n",
        "\n",
        "Y_pred = arbol.predict(X_test)\n",
        "\n",
        "# Calcula la matriz de confusión\n",
        "cm = confusion_matrix(Y_test, Y_pred)\n",
        "\n",
        "# Visualiza la matriz de confusión\n",
        "disp = ConfusionMatrixDisplay(confusion_matrix=cm)\n",
        "disp.plot()\n",
        "plt.show()"
      ]
    },
    {
      "cell_type": "code",
      "execution_count": null,
      "metadata": {
        "colab": {
          "base_uri": "https://localhost:8080/"
        },
        "id": "Xvs94qxqSQ5H",
        "outputId": "b3fb51ba-a8b2-45ba-e520-4d9130ba68ab"
      },
      "outputs": [
        {
          "name": "stdout",
          "output_type": "stream",
          "text": [
            "              precision    recall  f1-score   support\n",
            "\n",
            "           1       0.33      0.32      0.32       146\n",
            "           2       0.27      0.26      0.26       243\n",
            "           3       0.25      0.24      0.24       332\n",
            "           4       0.28      0.29      0.28       371\n",
            "           5       0.49      0.52      0.50       483\n",
            "\n",
            "    accuracy                           0.34      1575\n",
            "   macro avg       0.32      0.32      0.32      1575\n",
            "weighted avg       0.34      0.34      0.34      1575\n",
            "\n"
          ]
        }
      ],
      "source": [
        "# Mostrar reporte de clasificación\n",
        "\n",
        "print(classification_report(Y_test, Y_pred))"
      ]
    },
    {
      "cell_type": "markdown",
      "metadata": {
        "id": "Fn7UdcsfoeMr"
      },
      "source": [
        "### **Modelo para el algoritmo de Maquinas de Vector de Soporte [SVM] (Ronald Pardo Diaz - 202111309)**"
      ]
    },
    {
      "cell_type": "code",
      "execution_count": null,
      "metadata": {
        "colab": {
          "base_uri": "https://localhost:8080/",
          "height": 449
        },
        "id": "wYcdcFfYu_Mh",
        "outputId": "0099ec8a-1225-429c-f6dd-222193310a5c"
      },
      "outputs": [
        {
          "data": {
            "image/png": "[encoded data removed]",
            "text/plain": [
              "<Figure size 640x480 with 2 Axes>"
            ]
          },
          "metadata": {},
          "output_type": "display_data"
        }
      ],
      "source": [
        "# Dividir datos en entrenamiento y prueba\n",
        "\n",
        "X_train, X_test, Y_train, Y_test = train_test_split(X_data, Y_data, test_size=0.2, random_state=42)\n",
        "\n",
        "# Creación y entrenamiento del modelo SVM\n",
        "svm_model = SVC(kernel='linear', C=1.0)\n",
        "svm_model.fit(X_train, Y_train)\n",
        "\n",
        "# Evaluación del modelo\n",
        "Y_pred = svm_model.predict(X_test)\n",
        "\n",
        "# Calcula la matriz de confusión\n",
        "cm = confusion_matrix(Y_test, Y_pred)\n",
        "\n",
        "# Visualiza la matriz de confusión\n",
        "disp = ConfusionMatrixDisplay(confusion_matrix=cm)\n",
        "disp.plot()\n",
        "plt.show()"
      ]
    },
    {
      "cell_type": "code",
      "execution_count": null,
      "metadata": {
        "colab": {
          "base_uri": "https://localhost:8080/"
        },
        "id": "AQSjxzzJ_ry-",
        "outputId": "ef040983-1628-4dba-99db-5df9ca344c22"
      },
      "outputs": [
        {
          "name": "stdout",
          "output_type": "stream",
          "text": [
            "              precision    recall  f1-score   support\n",
            "\n",
            "           1       0.52      0.33      0.40       161\n",
            "           2       0.40      0.38      0.39       227\n",
            "           3       0.40      0.40      0.40       299\n",
            "           4       0.44      0.43      0.43       401\n",
            "           5       0.59      0.68      0.63       487\n",
            "\n",
            "    accuracy                           0.49      1575\n",
            "   macro avg       0.47      0.45      0.45      1575\n",
            "weighted avg       0.48      0.49      0.48      1575\n",
            "\n"
          ]
        }
      ],
      "source": [
        "# Mostrar reporte de clasificación\n",
        "\n",
        "print(classification_report(Y_test, Y_pred))"
      ]
    },
    {
      "cell_type": "markdown",
      "metadata": {
        "id": "el91Fsjexg-n"
      },
      "source": [
        "# **4. Clasificación nuevos datos**"
      ]
    },
    {
      "cell_type": "code",
      "execution_count": null,
      "metadata": {
        "colab": {
          "base_uri": "https://localhost:8080/"
        },
        "id": "_VqGMXeaJxn2",
        "outputId": "e5b3c874-63c9-4e5f-a78a-9f76af21cd2d"
      },
      "outputs": [
        {
          "name": "stdout",
          "output_type": "stream",
          "text": [
            "Las 30 características más positivas: \n",
            "['bien' 'gente' 'subir' 'gran' 'bueno' 'buena' 'historia' 'agradable'\n",
            " 'viejo' 'desayuno' 'precio' 'siquiera' 'mojitos' 'vendedores' 'dentro'\n",
            " 'demasiado' 'control' 'salon' 'mojito' 'ser' 'habitacion' 'piso' 'caro'\n",
            " 'dos' 'guia' 'bastante' 'visita' 'interesante' 'igual' 'parecio']\n",
            "\n",
            "Las 30 características más negativas: \n",
            "['peor' 'horrible' 'asco' 'pesima' 'cover' 'pesimo' 'ayer' 'recorrido'\n",
            " 'chico' 'jamas' 'robo' 'rota' 'nunca' 'cubano' 'nardo' 'persona' 'sucias'\n",
            " 'vuelta' 'tardo' 'noma' 'llegada' 'sabado' 'respuesta' 'cero' 'sucia'\n",
            " 'asqueroso' 'quemas' 'lamentable' 'terminar' 'seguridad']\n"
          ]
        }
      ],
      "source": [
        "# Convierte la matriz dispersa a una matriz densa antes de usar argsort()\n",
        "sorted_coef_index = svm_model.coef_[0].argsort()\n",
        "\n",
        "feature_names = np.array(X_data.columns)\n",
        "\n",
        "# Obtener las 10 características más negativas y más positivas\n",
        "print('Las 30 características más positivas: \\n{}\\n'.format(feature_names[sorted_coef_index[:30]]))\n",
        "print('Las 30 características más negativas: \\n{}'.format(feature_names[sorted_coef_index[:-31:-1]]))"
      ]
    },
    {
      "cell_type": "code",
      "execution_count": null,
      "metadata": {
        "colab": {
          "base_uri": "https://localhost:8080/"
        },
        "id": "41tQ4wI7xk-L",
        "outputId": "9f365449-21a5-4ec1-d96f-e354c5a961fb"
      },
      "outputs": [
        {
          "name": "stderr",
          "output_type": "stream",
          "text": [
            "/usr/local/lib/python3.10/dist-packages/sklearn/base.py:439: UserWarning: X does not have valid feature names, but LogisticRegression was fitted with feature names\n",
            "  warnings.warn(\n"
          ]
        }
      ],
      "source": [
        "# Cargar datos nuevos\n",
        "datos_nuevos_original = pd.read_csv(\"particion_prueba_estudiantes.csv\")\n",
        "datos_nuevos = datos_nuevos_original.copy()\n",
        "\n",
        "# Preprocesamiento de las nuevas reseñas\n",
        "datos_nuevos[\"Review\"] = datos_nuevos[\"Review\"].apply(limpiar_texto)\n",
        "datos_nuevos[\"Review\"] = datos_nuevos[\"Review\"].apply(eliminar_stopwords)\n",
        "datos_nuevos[\"Review\"] = datos_nuevos[\"Review\"].apply(lematizar_texto)\n",
        "datos_nuevos[\"Review\"] = datos_nuevos[\"Review\"].apply(convertir_numeros_texto)\n",
        "\n",
        "# Vectorización  de los nuevos datos usando el mismo vectorizador TF-IDF\n",
        "X_new_tfidf = tfidf_vectorizer.transform(datos_nuevos[\"Review\"])\n",
        "\n",
        "# Predicción con el modelo entrenado\n",
        "predictions = modelo_reg_log_multinomial.predict(X_new_tfidf)\n",
        "\n",
        "# Crear un nuevo DataFrame con las predicciones\n",
        "predicciones_df = pd.DataFrame({\"Review\": datos_nuevos_original[\"Review\"], \"Class\": predictions})\n",
        "\n",
        "# Guardar el DataFrame en un archivo CSV\n",
        "predicciones_df.to_csv(\"predicciones.csv\", index=False)"
      ]
    }
  ],
  "metadata": {
    "colab": {
      "provenance": []
    },
    "kernelspec": {
      "display_name": "Python 3",
      "name": "python3"
    },
    "language_info": {
      "name": "python",
      "version": "3.8.18"
    }
  },
  "nbformat": 4,
  "nbformat_minor": 0
}
